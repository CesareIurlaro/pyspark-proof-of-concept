{
 "cells": [
  {
   "cell_type": "code",
   "execution_count": 1,
   "metadata": {},
   "outputs": [
    {
     "data": {
      "text/html": [
       "\n",
       "            <div>\n",
       "                <p><b>SparkSession - in-memory</b></p>\n",
       "                \n",
       "        <div>\n",
       "            <p><b>SparkContext</b></p>\n",
       "\n",
       "            <p><a href=\"http://a04391474b6d:4040\">Spark UI</a></p>\n",
       "\n",
       "            <dl>\n",
       "              <dt>Version</dt>\n",
       "                <dd><code>v2.4.0</code></dd>\n",
       "              <dt>Master</dt>\n",
       "                <dd><code>local[*]</code></dd>\n",
       "              <dt>AppName</dt>\n",
       "                <dd><code>pyspark-shell</code></dd>\n",
       "            </dl>\n",
       "        </div>\n",
       "        \n",
       "            </div>\n",
       "        "
      ],
      "text/plain": [
       "<pyspark.sql.session.SparkSession at 0x7fbfaa688c18>"
      ]
     },
     "execution_count": 1,
     "metadata": {},
     "output_type": "execute_result"
    }
   ],
   "source": [
    "from pyspark.sql import SparkSession\n",
    "from pyspark.sql import functions as F\n",
    "from pyspark.sql import Row\n",
    "from datetime import date\n",
    "\n",
    "spark = SparkSession.builder.getOrCreate()\n",
    "spark"
   ]
  },
  {
   "cell_type": "code",
   "execution_count": 2,
   "metadata": {},
   "outputs": [],
   "source": [
    "df = spark.createDataFrame([\n",
    "    Row(pk=1, id=\"com.facebook.katana\", title=\"Facebook\", rating=4.0, last_update_date=date(2016,9,12)),\n",
    "    Row(pk=2, id=\"com.whatsapp\", title=\"WhatsApp\", rating=4.5, last_update_date=date(2016,9,11)),\n",
    "    Row(pk=3, id=\"com.whatsapp\", title=\"WhatsApp\", rating=4.4, last_update_date=date(2016,9,12)),\n",
    "    Row(pk=4, id=\"com.nianticlabs.pokemongo\", title=\"Pokémon GO\", rating=4.6 ,last_update_date=date(2016,9,5)),\n",
    "    Row(pk=5, id=\"com.nianticlabs.pokemongo\", title=\"Pokémon GO\", rating=4.3, last_update_date=date(2016,9,6)),\n",
    "    Row(pk=6, id=\"com.nianticlabs.pokemongo\", title=\"Pokémon GO\", rating=4.1, last_update_date=date(2016,9,7)),\n",
    "])"
   ]
  },
  {
   "cell_type": "code",
   "execution_count": 3,
   "metadata": {},
   "outputs": [
    {
     "name": "stdout",
     "output_type": "stream",
     "text": [
      "+-------------------------+----------------+---+------+----------+\n",
      "|id                       |last_update_date|pk |rating|title     |\n",
      "+-------------------------+----------------+---+------+----------+\n",
      "|com.facebook.katana      |2016-09-12      |1  |4.0   |Facebook  |\n",
      "|com.whatsapp             |2016-09-11      |2  |4.5   |WhatsApp  |\n",
      "|com.whatsapp             |2016-09-12      |3  |4.4   |WhatsApp  |\n",
      "|com.nianticlabs.pokemongo|2016-09-05      |4  |4.6   |Pokémon GO|\n",
      "|com.nianticlabs.pokemongo|2016-09-06      |5  |4.3   |Pokémon GO|\n",
      "|com.nianticlabs.pokemongo|2016-09-07      |6  |4.1   |Pokémon GO|\n",
      "+-------------------------+----------------+---+------+----------+\n",
      "\n"
     ]
    }
   ],
   "source": [
    "df.show(truncate=False)"
   ]
  },
  {
   "cell_type": "markdown",
   "metadata": {},
   "source": [
    "It may be worth noticing that, in the following cell, the complexity mostly depends on the ordering (n*log(n), presumably) and that this partition-based solution is generally more efficient than others, based for example on join operations."
   ]
  },
  {
   "cell_type": "code",
   "execution_count": 4,
   "metadata": {},
   "outputs": [
    {
     "name": "stdout",
     "output_type": "stream",
     "text": [
      "+-------------------------+----------------+---+------+----------+\n",
      "|id                       |last_update_date|pk |rating|title     |\n",
      "+-------------------------+----------------+---+------+----------+\n",
      "|com.whatsapp             |2016-09-12      |3  |4.4   |WhatsApp  |\n",
      "|com.facebook.katana      |2016-09-12      |1  |4.0   |Facebook  |\n",
      "|com.nianticlabs.pokemongo|2016-09-07      |6  |4.1   |Pokémon GO|\n",
      "+-------------------------+----------------+---+------+----------+\n",
      "\n"
     ]
    }
   ],
   "source": [
    "from pyspark.sql.functions import row_number\n",
    "from pyspark.sql.window import Window\n",
    "\n",
    "w = Window.partitionBy(\"id\").orderBy(F.col(\"last_update_date\").desc())\n",
    "result = df.withColumn(\"rownum\", F.row_number().over(w)).where(\"rownum = 1\").drop(\"rownum\")\n",
    "\n",
    "result.show(truncate=False)"
   ]
  }
 ],
 "metadata": {
  "kernelspec": {
   "display_name": "Python 3",
   "language": "python",
   "name": "python3"
  },
  "language_info": {
   "codemirror_mode": {
    "name": "ipython",
    "version": 3
   },
   "file_extension": ".py",
   "mimetype": "text/x-python",
   "name": "python",
   "nbconvert_exporter": "python",
   "pygments_lexer": "ipython3",
   "version": "3.6.6"
  }
 },
 "nbformat": 4,
 "nbformat_minor": 2
}
