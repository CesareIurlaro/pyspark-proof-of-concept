{
 "cells": [
  {
   "cell_type": "markdown",
   "metadata": {},
   "source": [
    "# Onedot | DATA ENGINEER"
   ]
  },
  {
   "cell_type": "markdown",
   "metadata": {},
   "source": [
    " The first step consists in the initialization of the Spark session. We will import some libraries from the Maven repository.\n",
    " - `com.crealytics:spark-excel_2.11` allows to read `.xlsx` data as Spark DataFrame\n",
    " - `io.delta:delta-core_2.11` allows to write tables in the delta format.\n",
    "   It introduces many advantages, as well as automatic optimization mechanisms and performance improvements in most cases          (https://www.bbva.com/en/delta-lake-power-up-your-data/) \n",
    " \n",
    " The first time this step is executed, It may require few moments depending on the internet speed. After that, the libraries with be locally cached."
   ]
  },
  {
   "cell_type": "code",
   "execution_count": 1,
   "metadata": {},
   "outputs": [
    {
     "data": {
      "text/html": [
       "\n",
       "            <div>\n",
       "                <p><b>SparkSession - in-memory</b></p>\n",
       "                \n",
       "        <div>\n",
       "            <p><b>SparkContext</b></p>\n",
       "\n",
       "            <p><a href=\"http://65c895dae889:4040\">Spark UI</a></p>\n",
       "\n",
       "            <dl>\n",
       "              <dt>Version</dt>\n",
       "                <dd><code>v2.4.0</code></dd>\n",
       "              <dt>Master</dt>\n",
       "                <dd><code>local[*]</code></dd>\n",
       "              <dt>AppName</dt>\n",
       "                <dd><code>pyspark-shell</code></dd>\n",
       "            </dl>\n",
       "        </div>\n",
       "        \n",
       "            </div>\n",
       "        "
      ],
      "text/plain": [
       "<pyspark.sql.session.SparkSession at 0x7f5b4c2eb550>"
      ]
     },
     "execution_count": 1,
     "metadata": {},
     "output_type": "execute_result"
    }
   ],
   "source": [
    "import pyspark\n",
    "from pyspark.sql import SparkSession\n",
    "from pyspark.sql import functions as F\n",
    "\n",
    "libraries = [# antlr4-runtime 4.7.1 or older resolve a bug with delta-core 0.6.x dependencies\n",
    "             'org.antlr:antlr4-runtime:4.7.2',  \n",
    "             'io.delta:delta-core_2.11:0.6.1',\n",
    "             'com.crealytics:spark-excel_2.11:0.13.1']\n",
    "\n",
    "conf = pyspark.SparkConf().setAll([('spark.sql.repl.eagerEval.enabled', True),\n",
    "                                   ('spark.jars.packages',  ','.join(libraries)),\n",
    "                                   ('spark.sql.extensions', 'io.delta.sql.DeltaSparkSessionExtension'),\n",
    "                                   ('spark.sql.catalog.spark_catalog', 'org.apache.spark.sql.delta.catalog.DeltaCatalog')])\n",
    "\n",
    "spark = SparkSession.builder.config(conf=conf).getOrCreate()\n",
    "spark"
   ]
  },
  {
   "cell_type": "markdown",
   "metadata": {},
   "source": [
    "In the following snippet, we are reading the `Target Data.xlsx` file and saving its content into the table `default.target`.\n",
    "\n",
    "It is a simple proof of concept, so we are allowing the schema inference, but It is usually a good practice in a real production environment to specify the schema.\n",
    "\n",
    "We finally read both the \"ingested\" json input file and the just created `target` table as DataFrames."
   ]
  },
  {
   "cell_type": "code",
   "execution_count": 2,
   "metadata": {},
   "outputs": [],
   "source": [
    "from delta.tables import *\n",
    "\n",
    "if 'target' not in spark.catalog.listTables():\n",
    "    target_data_path = './Target Data.xlsx'\n",
    "\n",
    "    (spark.read\n",
    "    .format(\"com.crealytics.spark.excel\")\n",
    "    .option('header', 'true')\n",
    "    .option('inferSchema', 'true')\n",
    "    .option('dataAddress', \"'Sheet1'!A1\")\n",
    "    .load(target_data_path)).write.saveAsTable('target', mode='overwrite', format='delta')\n",
    "\n",
    "supplier_data = spark.read.json('./supplier_car.json')\n",
    "target = spark.table('target')"
   ]
  },
  {
   "cell_type": "markdown",
   "metadata": {},
   "source": [
    "This is a brief preview of the data we just read:"
   ]
  },
  {
   "cell_type": "code",
   "execution_count": 3,
   "metadata": {},
   "outputs": [
    {
     "data": {
      "text/html": [
       "<table border='1'>\n",
       "<tr><th>carType</th><th>color</th><th>condition</th><th>currency</th><th>drive</th><th>city</th><th>country</th><th>make</th><th>manufacture_year</th><th>mileage</th><th>mileage_unit</th><th>model</th><th>model_variant</th><th>price_on_request</th><th>type</th><th>zip</th><th>manufacture_month</th><th>fuel_consumption_unit</th></tr>\n",
       "<tr><td>Convertible / Roa...</td><td>Blue</td><td>Restored</td><td>GBP</td><td>LHD</td><td>Reggio nell'Emilia</td><td>IT</td><td>Jaguar</td><td>1954</td><td>53.0</td><td>null</td><td>XK 120</td><td>null</td><td>false</td><td>car</td><td>RE</td><td>null</td><td>null</td></tr>\n",
       "<tr><td>Convertible / Roa...</td><td>Other</td><td>Used</td><td>GBP</td><td>LHD</td><td>Hemel Hempstead</td><td>GB</td><td>Aston Martin</td><td>2003</td><td>53.0</td><td>mile</td><td>DB7 Vantage</td><td>Coupe GTA</td><td>true</td><td>car</td><td>null</td><td>null</td><td>null</td></tr>\n",
       "<tr><td>Convertible / Roa...</td><td>Silver</td><td>Used</td><td>GBP</td><td>LHD</td><td>Zuzwil</td><td>CH</td><td>Bentley</td><td>2000</td><td>53.6</td><td>kilometer</td><td>Arnage</td><td>Red Label</td><td>false</td><td>car</td><td>null</td><td>5</td><td>l_km_consumption</td></tr>\n",
       "</table>\n"
      ],
      "text/plain": [
       "+--------------------+------+---------+--------+-----+------------------+-------+------------+----------------+-------+------------+-----------+-------------+----------------+----+----+-----------------+---------------------+\n",
       "|             carType| color|condition|currency|drive|              city|country|        make|manufacture_year|mileage|mileage_unit|      model|model_variant|price_on_request|type| zip|manufacture_month|fuel_consumption_unit|\n",
       "+--------------------+------+---------+--------+-----+------------------+-------+------------+----------------+-------+------------+-----------+-------------+----------------+----+----+-----------------+---------------------+\n",
       "|Convertible / Roa...|  Blue| Restored|     GBP|  LHD|Reggio nell'Emilia|     IT|      Jaguar|            1954|   53.0|        null|     XK 120|         null|           false| car|  RE|             null|                 null|\n",
       "|Convertible / Roa...| Other|     Used|     GBP|  LHD|   Hemel Hempstead|     GB|Aston Martin|            2003|   53.0|        mile|DB7 Vantage|    Coupe GTA|            true| car|null|             null|                 null|\n",
       "|Convertible / Roa...|Silver|     Used|     GBP|  LHD|            Zuzwil|     CH|     Bentley|            2000|   53.6|   kilometer|     Arnage|    Red Label|           false| car|null|                5|     l_km_consumption|\n",
       "+--------------------+------+---------+--------+-----+------------------+-------+------------+----------------+-------+------------+-----------+-------------+----------------+----+----+-----------------+---------------------+"
      ]
     },
     "execution_count": 3,
     "metadata": {},
     "output_type": "execute_result"
    }
   ],
   "source": [
    "target.limit(3)"
   ]
  },
  {
   "cell_type": "code",
   "execution_count": 4,
   "metadata": {},
   "outputs": [
    {
     "data": {
      "text/html": [
       "<table border='1'>\n",
       "<tr><th>Attribute Names</th><th>Attribute Values</th><th>ID</th><th>MakeText</th><th>ModelText</th><th>ModelTypeText</th><th>TypeName</th><th>TypeNameFull</th><th>entity_id</th></tr>\n",
       "<tr><td>Seats</td><td>2</td><td>976.0</td><td>MERCEDES-BENZ</td><td>SLR</td><td>SLR McLaren</td><td>McLaren</td><td>MERCEDES-BENZ SLR...</td><td>0001fda6-192b-46a...</td></tr>\n",
       "<tr><td>Hp</td><td>235</td><td>1059.0</td><td>MERCEDES-BENZ</td><td>ML 350</td><td>ML 350 Inspiration</td><td>ML 350 Inspiration</td><td>MERCEDES-BENZ ML ...</td><td>00107c2d-0071-447...</td></tr>\n",
       "<tr><td>FuelTypeText</td><td>Benzin</td><td>524.0</td><td>AUDI</td><td>S6</td><td>S6 Avant quattro 4.2</td><td>S6 Avant quattro 4.2</td><td>AUDI S6 Avant qua...</td><td>00126794-a8ef-48f...</td></tr>\n",
       "</table>\n"
      ],
      "text/plain": [
       "+---------------+----------------+------+-------------+---------+--------------------+--------------------+--------------------+--------------------+\n",
       "|Attribute Names|Attribute Values|    ID|     MakeText|ModelText|       ModelTypeText|            TypeName|        TypeNameFull|           entity_id|\n",
       "+---------------+----------------+------+-------------+---------+--------------------+--------------------+--------------------+--------------------+\n",
       "|          Seats|               2| 976.0|MERCEDES-BENZ|      SLR|         SLR McLaren|             McLaren|MERCEDES-BENZ SLR...|0001fda6-192b-46a...|\n",
       "|             Hp|             235|1059.0|MERCEDES-BENZ|   ML 350|  ML 350 Inspiration|  ML 350 Inspiration|MERCEDES-BENZ ML ...|00107c2d-0071-447...|\n",
       "|   FuelTypeText|          Benzin| 524.0|         AUDI|       S6|S6 Avant quattro 4.2|S6 Avant quattro 4.2|AUDI S6 Avant qua...|00126794-a8ef-48f...|\n",
       "+---------------+----------------+------+-------------+---------+--------------------+--------------------+--------------------+--------------------+"
      ]
     },
     "execution_count": 4,
     "metadata": {},
     "output_type": "execute_result"
    }
   ],
   "source": [
    "supplier_data.limit(3)"
   ]
  },
  {
   "cell_type": "markdown",
   "metadata": {},
   "source": [
    "### 1. Pre-processing\n",
    "\n",
    "The following code groups all the attributes having the same ID and stores them in the `attributes` column.\n",
    "\n",
    "**NOTICE**: It could have been possibile to directly store each attribute on a personal own separate column with a `pivot` operation, even though It is more resources expensive."
   ]
  },
  {
   "cell_type": "code",
   "execution_count": 5,
   "metadata": {},
   "outputs": [
    {
     "data": {
      "text/html": [
       "<table border='1'>\n",
       "<tr><th>ID</th><th>MakeText</th><th>ModelText</th><th>TypeName</th><th>attributes</th></tr>\n",
       "<tr><td>1017.0</td><td>VW</td><td>JETTA</td><td>Jetta 2.0 TDI Com...</td><td>[Properties -&gt; \"A...</td></tr>\n",
       "<tr><td>1140.0</td><td>McLAREN</td><td>12C</td><td>MP4-12C Cabriolet...</td><td>[FuelTypeText -&gt; ...</td></tr>\n",
       "<tr><td>195.0</td><td>MITSUBISHI</td><td>LANCER</td><td>Lancer Evo VII</td><td>[FirstRegMonth -&gt;...</td></tr>\n",
       "</table>\n"
      ],
      "text/plain": [
       "+------+----------+---------+--------------------+--------------------+\n",
       "|    ID|  MakeText|ModelText|            TypeName|          attributes|\n",
       "+------+----------+---------+--------------------+--------------------+\n",
       "|1017.0|        VW|    JETTA|Jetta 2.0 TDI Com...|[Properties -> \"A...|\n",
       "|1140.0|   McLAREN|      12C|MP4-12C Cabriolet...|[FuelTypeText -> ...|\n",
       "| 195.0|MITSUBISHI|   LANCER|      Lancer Evo VII|[FirstRegMonth ->...|\n",
       "+------+----------+---------+--------------------+--------------------+"
      ]
     },
     "execution_count": 5,
     "metadata": {},
     "output_type": "execute_result"
    }
   ],
   "source": [
    "preprocessing = (supplier_data\n",
    "                .select(\n",
    "                    F.col('ID'),\n",
    "                    F.col('MakeText'),\n",
    "                    F.col('ModelText'),\n",
    "                    F.col('TypeName'),\n",
    "                    F.col('Attribute Names'), \n",
    "                    F.col('Attribute Values')\n",
    "                ).groupBy('ID', 'MakeText', 'ModelText', 'TypeName')\n",
    "                 .agg(F.map_from_arrays(F.collect_list('Attribute Names'), \n",
    "                                        F.collect_list('Attribute Values')).alias('attributes'))\n",
    "               )\n",
    "\n",
    "preprocessing.limit(3)"
   ]
  },
  {
   "cell_type": "markdown",
   "metadata": {},
   "source": [
    "The following is an example of what the content of an `attributes` row may look like."
   ]
  },
  {
   "cell_type": "code",
   "execution_count": 6,
   "metadata": {},
   "outputs": [
    {
     "data": {
      "text/plain": [
       "{'BodyTypeText': 'Limousine',\n",
       " 'TransmissionTypeText': 'Automatisiertes Schaltgetriebe',\n",
       " 'InteriorColorText': 'grau',\n",
       " 'Km': '33500',\n",
       " 'ConsumptionTotalText': '5.8 l/100km',\n",
       " 'FuelTypeText': 'Diesel',\n",
       " 'Hp': '140',\n",
       " 'FirstRegYear': '2009',\n",
       " 'DriveTypeText': 'Vorderradantrieb',\n",
       " 'City': 'Zuzwil',\n",
       " 'Properties': '\"Ab MFK\"',\n",
       " 'Ccm': '1968',\n",
       " 'FirstRegMonth': '3',\n",
       " 'Seats': '5',\n",
       " 'ConsumptionRatingText': 'E',\n",
       " 'ConditionTypeText': 'Occasion',\n",
       " 'BodyColorText': 'silber mét.',\n",
       " 'Doors': '4',\n",
       " 'Co2EmissionText': '154 g/km'}"
      ]
     },
     "execution_count": 6,
     "metadata": {},
     "output_type": "execute_result"
    }
   ],
   "source": [
    "preprocessing.select('attributes').take(1)[0][0]"
   ]
  },
  {
   "cell_type": "markdown",
   "metadata": {},
   "source": [
    "In order to reach the desired format, the `attributes` items have to be transformed. The following function does so with the `color` key, when It is present.\n",
    "\n",
    "Not each possible case has been translated.\n",
    "\n",
    "The translation this method does could also be acquired by an external library (Google Translate API?). This would remove the limit of having a manual translation mapping but would need an UDF function and therefore a little loss in performance."
   ]
  },
  {
   "cell_type": "code",
   "execution_count": 7,
   "metadata": {},
   "outputs": [],
   "source": [
    "def translate_color_to_english(attributes_col):\n",
    "    return (F.when(F.col('attributes').getItem('BodyColorText') == F.lit('schwarz'), F.lit('Black'))\n",
    "             .when(F.col('attributes').getItem('BodyColorText') == F.lit('grün'), F.lit('Green'))\n",
    "             .when(F.col('attributes').getItem('BodyColorText') == F.lit('blau'), F.lit('Blue'))\n",
    "             .when(F.col('attributes').getItem('BodyColorText') == F.lit('braun'), F.lit('Brown'))\n",
    "             .when(F.col('attributes').getItem('BodyColorText') == F.lit('grau'), F.lit('Grey'))\n",
    "             .when(F.col('attributes').getItem('BodyColorText') == F.lit('weiss'), F.lit('White'))\n",
    "             .when(F.col('attributes').getItem('BodyColorText') == F.lit('gelb'), F.lit('Yellow'))\n",
    "             .when(F.col('attributes').getItem('BodyColorText') == F.lit('beige'), F.lit('Beige'))\n",
    "             # ... with an external mapping file this could be narrowed into a line of code\n",
    "             .otherwise(F.col('attributes.BodyColorText')))"
   ]
  },
  {
   "cell_type": "markdown",
   "metadata": {},
   "source": [
    "## 2. Normalization\n",
    "\n",
    "`attributes.BodyColorText` needs `attributes.MakeText` to be normalized.\n",
    "\n",
    "We are here excluding all the fields that are unnecessary for the exercise."
   ]
  },
  {
   "cell_type": "code",
   "execution_count": 8,
   "metadata": {},
   "outputs": [
    {
     "data": {
      "text/html": [
       "<table border='1'>\n",
       "<tr><th>BodyColorText</th><th>MakeText</th><th>ModelText</th><th>TypeName</th><th>City</th><th>ConsumptionTotalText</th></tr>\n",
       "<tr><td>silber mét.</td><td>Vw</td><td>JETTA</td><td>Jetta 2.0 TDI Com...</td><td>Zuzwil</td><td>5.8 l/100km</td></tr>\n",
       "<tr><td>weiss mét.</td><td>Mclaren</td><td>12C</td><td>MP4-12C Cabriolet...</td><td>Zuzwil</td><td>12.3 l/100km</td></tr>\n",
       "<tr><td>bordeaux</td><td>Mitsubishi</td><td>LANCER</td><td>Lancer Evo VII</td><td>Zuzwil</td><td>null</td></tr>\n",
       "</table>\n"
      ],
      "text/plain": [
       "+-------------+----------+---------+--------------------+------+--------------------+\n",
       "|BodyColorText|  MakeText|ModelText|            TypeName|  City|ConsumptionTotalText|\n",
       "+-------------+----------+---------+--------------------+------+--------------------+\n",
       "|  silber mét.|        Vw|    JETTA|Jetta 2.0 TDI Com...|Zuzwil|         5.8 l/100km|\n",
       "|   weiss mét.|   Mclaren|      12C|MP4-12C Cabriolet...|Zuzwil|        12.3 l/100km|\n",
       "|     bordeaux|Mitsubishi|   LANCER|      Lancer Evo VII|Zuzwil|                null|\n",
       "+-------------+----------+---------+--------------------+------+--------------------+"
      ]
     },
     "execution_count": 8,
     "metadata": {},
     "output_type": "execute_result"
    }
   ],
   "source": [
    "normalized = (preprocessing\n",
    "                .select(\n",
    "                    F.when(\n",
    "                        F.array_contains(F.map_keys('attributes'), 'BodyColorText'),\n",
    "                        translate_color_to_english(F.col('attributes'))\n",
    "                    ).alias('BodyColorText'),\n",
    "                    F.initcap('MakeText').alias('MakeText'),\n",
    "                    F.col('ModelText'),\n",
    "                    F.col('TypeName'),\n",
    "                    F.when(\n",
    "                        F.array_contains(F.map_keys('attributes'), 'City'),\n",
    "                        F.col('attributes').getItem('City')\n",
    "                    ).alias('City'),\n",
    "                    F.col('attributes.ConsumptionTotalText')\n",
    "                ))\n",
    "\n",
    "normalized.limit(3)"
   ]
  },
  {
   "cell_type": "markdown",
   "metadata": {},
   "source": [
    "## 3. Extraction\n",
    "\n",
    "The following code decomposes and extract `ConsumptionTotalText` in different columns."
   ]
  },
  {
   "cell_type": "code",
   "execution_count": 9,
   "metadata": {},
   "outputs": [
    {
     "data": {
      "text/html": [
       "<table border='1'>\n",
       "<tr><th>BodyColorText</th><th>MakeText</th><th>ModelText</th><th>TypeName</th><th>City</th><th>extracted-value-ConsumptionTotalText</th><th>extracted-unit-ConsumptionTotalText</th></tr>\n",
       "<tr><td>silber mét.</td><td>Vw</td><td>JETTA</td><td>Jetta 2.0 TDI Com...</td><td>Zuzwil</td><td>5.8</td><td>l/100km</td></tr>\n",
       "<tr><td>weiss mét.</td><td>Mclaren</td><td>12C</td><td>MP4-12C Cabriolet...</td><td>Zuzwil</td><td>12.3</td><td>l/100km</td></tr>\n",
       "<tr><td>bordeaux</td><td>Mitsubishi</td><td>LANCER</td><td>Lancer Evo VII</td><td>Zuzwil</td><td>null</td><td>null</td></tr>\n",
       "</table>\n"
      ],
      "text/plain": [
       "+-------------+----------+---------+--------------------+------+------------------------------------+-----------------------------------+\n",
       "|BodyColorText|  MakeText|ModelText|            TypeName|  City|extracted-value-ConsumptionTotalText|extracted-unit-ConsumptionTotalText|\n",
       "+-------------+----------+---------+--------------------+------+------------------------------------+-----------------------------------+\n",
       "|  silber mét.|        Vw|    JETTA|Jetta 2.0 TDI Com...|Zuzwil|                                 5.8|                            l/100km|\n",
       "|   weiss mét.|   Mclaren|      12C|MP4-12C Cabriolet...|Zuzwil|                                12.3|                            l/100km|\n",
       "|     bordeaux|Mitsubishi|   LANCER|      Lancer Evo VII|Zuzwil|                                null|                               null|\n",
       "+-------------+----------+---------+--------------------+------+------------------------------------+-----------------------------------+"
      ]
     },
     "execution_count": 9,
     "metadata": {},
     "output_type": "execute_result"
    }
   ],
   "source": [
    "extraction_data = (normalized\n",
    "                   .withColumn('extracted-value-ConsumptionTotalText', F.split('ConsumptionTotalText', ' ')[0])\n",
    "                   .withColumn('extracted-unit-ConsumptionTotalText', F.split('ConsumptionTotalText', ' ')[1])\n",
    "                  ).drop('ConsumptionTotalText')\n",
    "\n",
    "extraction_data.limit(3)"
   ]
  },
  {
   "cell_type": "markdown",
   "metadata": {},
   "source": [
    "## 4. Integration\n",
    "\n",
    "We can chance the columns names in order to make the input compliant with the output."
   ]
  },
  {
   "cell_type": "code",
   "execution_count": 10,
   "metadata": {},
   "outputs": [
    {
     "data": {
      "text/html": [
       "<table border='1'>\n",
       "<tr><th>color</th><th>make</th><th>model</th><th>model_variant</th><th>city</th></tr>\n",
       "<tr><td>silber mét.</td><td>Vw</td><td>JETTA</td><td>Jetta 2.0 TDI Com...</td><td>Zuzwil</td></tr>\n",
       "<tr><td>weiss mét.</td><td>Mclaren</td><td>12C</td><td>MP4-12C Cabriolet...</td><td>Zuzwil</td></tr>\n",
       "<tr><td>bordeaux</td><td>Mitsubishi</td><td>LANCER</td><td>Lancer Evo VII</td><td>Zuzwil</td></tr>\n",
       "</table>\n"
      ],
      "text/plain": [
       "+-----------+----------+------+--------------------+------+\n",
       "|      color|      make| model|       model_variant|  city|\n",
       "+-----------+----------+------+--------------------+------+\n",
       "|silber mét.|        Vw| JETTA|Jetta 2.0 TDI Com...|Zuzwil|\n",
       "| weiss mét.|   Mclaren|   12C|MP4-12C Cabriolet...|Zuzwil|\n",
       "|   bordeaux|Mitsubishi|LANCER|      Lancer Evo VII|Zuzwil|\n",
       "+-----------+----------+------+--------------------+------+"
      ]
     },
     "execution_count": 10,
     "metadata": {},
     "output_type": "execute_result"
    }
   ],
   "source": [
    "integration_data = (extraction_data\n",
    "                    .select(\n",
    "                        F.col('BodyColorText').alias('color'),\n",
    "                        F.col('MakeText').alias('make'),\n",
    "                        F.col('ModelText').alias('model'),\n",
    "                        F.col('TypeName').alias('model_variant'),\n",
    "                        F.col('City').alias('city'))\n",
    "                    )\n",
    "\n",
    "integration_data.limit(3)"
   ]
  },
  {
   "cell_type": "markdown",
   "metadata": {},
   "source": [
    "## 5. Product matching, enriching existing products, adding new products\n",
    "\n",
    "The following is a common task, called `upsertion`. \n",
    "\n",
    "It can easily be achieved through the `delta` tables support library, which we previously imported.\n",
    "\n",
    "In order to do It, we have to first fix one or more ID keys that determine a record matching criterion between input and target. In this case the fields `make`, `model`, `model_variant`.\n",
    "\n",
    "If this match is found, then an arbitrarily complex (even conditional) update operation can be defined on any field of the matching record. In this exemplifying case, when a match is found and its potentially new value is `NOT NULL`, then the field `color` gets updated.\n",
    "\n",
    "If not, then the input record is inserted into the target table.\n",
    "\n",
    "Of course this same operation may be performed in different ways, in case in which for example `delta` is not viable or with different business rules.\n",
    "\n",
    "It once happened to me for example, in a context with a legacy `PostgreSQL` target database, to use the `RDD`s `mapPartition` method in combination with the `pg8000` library in order to implement an upsertion task."
   ]
  },
  {
   "cell_type": "code",
   "execution_count": 11,
   "metadata": {
    "scrolled": false
   },
   "outputs": [
    {
     "data": {
      "text/html": [
       "<table border='1'>\n",
       "<tr><th>carType</th><th>color</th><th>condition</th><th>currency</th><th>drive</th><th>city</th><th>country</th><th>make</th><th>manufacture_year</th><th>mileage</th><th>mileage_unit</th><th>model</th><th>model_variant</th><th>price_on_request</th><th>type</th><th>zip</th><th>manufacture_month</th><th>fuel_consumption_unit</th></tr>\n",
       "<tr><td>Convertible / Roa...</td><td>Blue</td><td>Restored</td><td>GBP</td><td>LHD</td><td>Reggio nell'Emilia</td><td>IT</td><td>Jaguar</td><td>1954</td><td>53.0</td><td>null</td><td>XK 120</td><td>null</td><td>false</td><td>car</td><td>RE</td><td>null</td><td>null</td></tr>\n",
       "<tr><td>Convertible / Roa...</td><td>Other</td><td>Used</td><td>GBP</td><td>LHD</td><td>Hemel Hempstead</td><td>GB</td><td>Aston Martin</td><td>2003</td><td>53.0</td><td>mile</td><td>DB7 Vantage</td><td>Coupe GTA</td><td>true</td><td>car</td><td>null</td><td>null</td><td>null</td></tr>\n",
       "<tr><td>Convertible / Roa...</td><td>Silver</td><td>Used</td><td>GBP</td><td>LHD</td><td>Zuzwil</td><td>CH</td><td>Bentley</td><td>2000</td><td>53.6</td><td>kilometer</td><td>Arnage</td><td>Red Label</td><td>false</td><td>car</td><td>null</td><td>5</td><td>l_km_consumption</td></tr>\n",
       "<tr><td>Convertible / Roa...</td><td>Red</td><td>Used</td><td>GBP</td><td>LHD</td><td>Böblingen (bei St...</td><td>DE</td><td>Maserati</td><td>2016</td><td>55.0</td><td>kilometer</td><td>Ghibli</td><td>Diesel MASERATI S...</td><td>false</td><td>car</td><td>null</td><td>4</td><td>l_km_consumption</td></tr>\n",
       "<tr><td>Convertible / Roa...</td><td>Blue</td><td>Used</td><td>GBP</td><td>LHD</td><td>Aalst</td><td>BE</td><td>Chrysler</td><td>1953</td><td>56.0</td><td>null</td><td>Special Coupé by ...</td><td>null</td><td>true</td><td>car</td><td>null</td><td>null</td><td>null</td></tr>\n",
       "</table>\n"
      ],
      "text/plain": [
       "+--------------------+------+---------+--------+-----+--------------------+-------+------------+----------------+-------+------------+--------------------+--------------------+----------------+----+----+-----------------+---------------------+\n",
       "|             carType| color|condition|currency|drive|                city|country|        make|manufacture_year|mileage|mileage_unit|               model|       model_variant|price_on_request|type| zip|manufacture_month|fuel_consumption_unit|\n",
       "+--------------------+------+---------+--------+-----+--------------------+-------+------------+----------------+-------+------------+--------------------+--------------------+----------------+----+----+-----------------+---------------------+\n",
       "|Convertible / Roa...|  Blue| Restored|     GBP|  LHD|  Reggio nell'Emilia|     IT|      Jaguar|            1954|   53.0|        null|              XK 120|                null|           false| car|  RE|             null|                 null|\n",
       "|Convertible / Roa...| Other|     Used|     GBP|  LHD|     Hemel Hempstead|     GB|Aston Martin|            2003|   53.0|        mile|         DB7 Vantage|           Coupe GTA|            true| car|null|             null|                 null|\n",
       "|Convertible / Roa...|Silver|     Used|     GBP|  LHD|              Zuzwil|     CH|     Bentley|            2000|   53.6|   kilometer|              Arnage|           Red Label|           false| car|null|                5|     l_km_consumption|\n",
       "|Convertible / Roa...|   Red|     Used|     GBP|  LHD|Böblingen (bei St...|     DE|    Maserati|            2016|   55.0|   kilometer|              Ghibli|Diesel MASERATI S...|           false| car|null|                4|     l_km_consumption|\n",
       "|Convertible / Roa...|  Blue|     Used|     GBP|  LHD|               Aalst|     BE|    Chrysler|            1953|   56.0|        null|Special Coupé by ...|                null|            true| car|null|             null|                 null|\n",
       "+--------------------+------+---------+--------+-----+--------------------+-------+------------+----------------+-------+------------+--------------------+--------------------+----------------+----+----+-----------------+---------------------+"
      ]
     },
     "execution_count": 11,
     "metadata": {},
     "output_type": "execute_result"
    }
   ],
   "source": [
    "deltaTable = DeltaTable.forPath(spark, \"./spark-warehouse/target/\")\n",
    "\n",
    "(deltaTable.alias(\"target\")\n",
    " .merge(integration_data.alias(\"updates\"), \n",
    "        condition = ((F.expr(\"target.make = updates.make\")) & \n",
    "                     (F.expr(\"target.model = updates.model\")) & \n",
    "                     (F.expr(\"target.model_variant = updates.model_variant\")))\n",
    "       ).whenMatchedUpdate(condition=F.expr(\"updates.color IS NOT NULL\"), set = { \"color\" : \"updates.color\" } )\n",
    "        .whenNotMatchedInsertAll()\n",
    ")\n",
    "\n",
    "target = spark.table('target') \n",
    "target.limit(5)"
   ]
  },
  {
   "cell_type": "markdown",
   "metadata": {},
   "source": [
    "## CSV OUTPUTS"
   ]
  },
  {
   "cell_type": "markdown",
   "metadata": {},
   "source": [
    "In order to get precisely 1 file, a repartition/coalesce is needed. \n",
    "\n",
    "The latter tries to avoid shuffles (https://stackoverflow.com/a/40983145/3004162) so It is generally better."
   ]
  },
  {
   "cell_type": "code",
   "execution_count": 13,
   "metadata": {},
   "outputs": [],
   "source": [
    "(preprocessing\n",
    " .withColumn('attributes', F.col('attributes').cast('string'))\n",
    " .coalesce(1)\n",
    " .write.csv(path='./csv/preprocessing', header=True, encoding='utf-8')\n",
    ")"
   ]
  },
  {
   "cell_type": "code",
   "execution_count": 14,
   "metadata": {},
   "outputs": [],
   "source": [
    "normalized.coalesce(1).write.csv(path='./csv/normalized', header=True, encoding='utf-8')"
   ]
  },
  {
   "cell_type": "code",
   "execution_count": 15,
   "metadata": {},
   "outputs": [],
   "source": [
    "extraction_data.coalesce(1).write.csv(path='./csv/extraction_data', header=True, encoding='utf-8')"
   ]
  },
  {
   "cell_type": "code",
   "execution_count": 16,
   "metadata": {},
   "outputs": [],
   "source": [
    "integration_data.coalesce(1).write.csv(path='./csv/integration_data', header=True, encoding='utf-8')"
   ]
  },
  {
   "cell_type": "code",
   "execution_count": null,
   "metadata": {},
   "outputs": [],
   "source": []
  }
 ],
 "metadata": {
  "kernelspec": {
   "display_name": "Python 3",
   "language": "python",
   "name": "python3"
  },
  "language_info": {
   "codemirror_mode": {
    "name": "ipython",
    "version": 3
   },
   "file_extension": ".py",
   "mimetype": "text/x-python",
   "name": "python",
   "nbconvert_exporter": "python",
   "pygments_lexer": "ipython3",
   "version": "3.6.6"
  }
 },
 "nbformat": 4,
 "nbformat_minor": 2
}