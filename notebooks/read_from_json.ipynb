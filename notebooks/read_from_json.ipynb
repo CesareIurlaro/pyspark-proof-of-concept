{
 "cells": [
  {
   "cell_type": "code",
   "execution_count": 1,
   "id": "9369ecbf",
   "metadata": {
    "pycharm": {
     "name": "#%%\n"
    }
   },
   "outputs": [
    {
     "data": {
      "text/html": [
       "\n",
       "            <div>\n",
       "                <p><b>SparkSession - in-memory</b></p>\n",
       "                \n",
       "        <div>\n",
       "            <p><b>SparkContext</b></p>\n",
       "\n",
       "            <p><a href=\"http://bb6d52a80e17:4040\">Spark UI</a></p>\n",
       "\n",
       "            <dl>\n",
       "              <dt>Version</dt>\n",
       "                <dd><code>v3.3.0</code></dd>\n",
       "              <dt>Master</dt>\n",
       "                <dd><code>local[*]</code></dd>\n",
       "              <dt>AppName</dt>\n",
       "                <dd><code>pyspark-shell</code></dd>\n",
       "            </dl>\n",
       "        </div>\n",
       "        \n",
       "            </div>\n",
       "        "
      ],
      "text/plain": [
       "<pyspark.sql.session.SparkSession at 0x7f5bdc2dace0>"
      ]
     },
     "execution_count": 1,
     "metadata": {},
     "output_type": "execute_result"
    }
   ],
   "source": [
    "from pyspark import SparkConf\n",
    "from pyspark.sql import SparkSession\n",
    "from pyspark.sql import functions as F\n",
    "\n",
    "conf = SparkConf().set('spark.sql.repl.eagerEval.enabled', True)\n",
    "\n",
    "spark = SparkSession.builder.config(conf=conf).getOrCreate()\n",
    "spark"
   ]
  },
  {
   "cell_type": "code",
   "execution_count": 2,
   "id": "e8c4ed1d",
   "metadata": {
    "pycharm": {
     "name": "#%%\n"
    }
   },
   "outputs": [
    {
     "data": {
      "text/html": [
       "<table border='1'>\n",
       "<tr><th>petalLength</th><th>petalWidth</th><th>sepalLength</th><th>sepalWidth</th><th>species</th></tr>\n",
       "<tr><td>1.4</td><td>0.2</td><td>5.1</td><td>3.5</td><td>setosa</td></tr>\n",
       "<tr><td>1.4</td><td>0.2</td><td>4.9</td><td>3.0</td><td>setosa</td></tr>\n",
       "<tr><td>1.3</td><td>0.2</td><td>4.7</td><td>3.2</td><td>setosa</td></tr>\n",
       "<tr><td>1.5</td><td>0.2</td><td>4.6</td><td>3.1</td><td>setosa</td></tr>\n",
       "<tr><td>1.4</td><td>0.2</td><td>5.0</td><td>3.6</td><td>setosa</td></tr>\n",
       "</table>\n"
      ],
      "text/plain": [
       "+-----------+----------+-----------+----------+-------+\n",
       "|petalLength|petalWidth|sepalLength|sepalWidth|species|\n",
       "+-----------+----------+-----------+----------+-------+\n",
       "|        1.4|       0.2|        5.1|       3.5| setosa|\n",
       "|        1.4|       0.2|        4.9|       3.0| setosa|\n",
       "|        1.3|       0.2|        4.7|       3.2| setosa|\n",
       "|        1.5|       0.2|        4.6|       3.1| setosa|\n",
       "|        1.4|       0.2|        5.0|       3.6| setosa|\n",
       "+-----------+----------+-----------+----------+-------+"
      ]
     },
     "execution_count": 2,
     "metadata": {},
     "output_type": "execute_result"
    }
   ],
   "source": [
    "iris_raw = \"data/iris.json\"\n",
    "iris_spd = spark.read.option(\"multiline\", \"true\").json(iris_raw)\n",
    "iris_spd.limit(5)"
   ]
  },
  {
   "cell_type": "code",
   "execution_count": 3,
   "id": "d0f5a6b1",
   "metadata": {
    "pycharm": {
     "name": "#%%\n"
    }
   },
   "outputs": [
    {
     "data": {
      "text/html": [
       "<table border='1'>\n",
       "<tr><th>petalLength</th><th>petalWidth</th><th>sepalLength</th><th>sepalWidth</th><th>species</th></tr>\n",
       "<tr><td>1.4</td><td>0.2</td><td>5.1</td><td>3.5</td><td>setosa</td></tr>\n",
       "<tr><td>1.4</td><td>0.2</td><td>4.9</td><td>3.0</td><td>setosa</td></tr>\n",
       "<tr><td>1.3</td><td>0.2</td><td>4.7</td><td>3.2</td><td>setosa</td></tr>\n",
       "<tr><td>1.5</td><td>0.2</td><td>4.6</td><td>3.1</td><td>setosa</td></tr>\n",
       "<tr><td>1.4</td><td>0.2</td><td>5.0</td><td>3.6</td><td>setosa</td></tr>\n",
       "</table>\n"
      ],
      "text/plain": [
       "+-----------+----------+-----------+----------+-------+\n",
       "|petalLength|petalWidth|sepalLength|sepalWidth|species|\n",
       "+-----------+----------+-----------+----------+-------+\n",
       "|        1.4|       0.2|        5.1|       3.5| setosa|\n",
       "|        1.4|       0.2|        4.9|       3.0| setosa|\n",
       "|        1.3|       0.2|        4.7|       3.2| setosa|\n",
       "|        1.5|       0.2|        4.6|       3.1| setosa|\n",
       "|        1.4|       0.2|        5.0|       3.6| setosa|\n",
       "+-----------+----------+-----------+----------+-------+"
      ]
     },
     "execution_count": 3,
     "metadata": {},
     "output_type": "execute_result"
    }
   ],
   "source": [
    "from pyspark.sql.types import StructType, StructField, StringType\n",
    "\n",
    "schema = StructType([\n",
    "    StructField(\"petalLength\", StringType(), True),\n",
    "    StructField(\"petalWidth\", StringType(), True),\n",
    "    StructField(\"sepalLength\", StringType(), True),\n",
    "    StructField(\"sepalWidth\", StringType(), True),\n",
    "    StructField(\"species\", StringType(), True),\n",
    "])\n",
    "\n",
    "iris_spd = spark.read.json(iris_raw, schema=schema).na.drop()\n",
    "iris_spd.limit(5)"
   ]
  },
  {
   "cell_type": "code",
   "execution_count": null,
   "id": "2281957f",
   "metadata": {
    "pycharm": {
     "name": "#%%\n"
    }
   },
   "outputs": [],
   "source": []
  }
 ],
 "metadata": {
  "kernelspec": {
   "display_name": "Python 3 (ipykernel)",
   "language": "python",
   "name": "python3"
  },
  "language_info": {
   "codemirror_mode": {
    "name": "ipython",
    "version": 3
   },
   "file_extension": ".py",
   "mimetype": "text/x-python",
   "name": "python",
   "nbconvert_exporter": "python",
   "pygments_lexer": "ipython3",
   "version": "3.10.5"
  }
 },
 "nbformat": 4,
 "nbformat_minor": 5
}