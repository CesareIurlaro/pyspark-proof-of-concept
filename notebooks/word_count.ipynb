{
 "cells": [
  {
   "cell_type": "code",
   "execution_count": 1,
   "metadata": {},
   "outputs": [
    {
     "data": {
      "text/html": [
       "\n",
       "            <div>\n",
       "                <p><b>SparkSession - in-memory</b></p>\n",
       "                \n",
       "        <div>\n",
       "            <p><b>SparkContext</b></p>\n",
       "\n",
       "            <p><a href=\"http://a04391474b6d:4041\">Spark UI</a></p>\n",
       "\n",
       "            <dl>\n",
       "              <dt>Version</dt>\n",
       "                <dd><code>v2.4.0</code></dd>\n",
       "              <dt>Master</dt>\n",
       "                <dd><code>local[*]</code></dd>\n",
       "              <dt>AppName</dt>\n",
       "                <dd><code>pyspark-shell</code></dd>\n",
       "            </dl>\n",
       "        </div>\n",
       "        \n",
       "            </div>\n",
       "        "
      ],
      "text/plain": [
       "<pyspark.sql.session.SparkSession at 0x7f22a44a90b8>"
      ]
     },
     "execution_count": 1,
     "metadata": {},
     "output_type": "execute_result"
    }
   ],
   "source": [
    "from pyspark.sql import SparkSession\n",
    "from pyspark.sql import functions as F\n",
    "\n",
    "\n",
    "spark = SparkSession.builder.getOrCreate()\n",
    "spark"
   ]
  },
  {
   "cell_type": "markdown",
   "metadata": {},
   "source": [
    "In the following code we are reading from a text file, containing many rows, we want to count the total amount of words with the rows starting with \"BG:\"."
   ]
  },
  {
   "cell_type": "code",
   "execution_count": 2,
   "metadata": {},
   "outputs": [
    {
     "name": "stdout",
     "output_type": "stream",
     "text": [
      "+-------------------------------------------------------------------------------+\n",
      "|value                                                                          |\n",
      "+-------------------------------------------------------------------------------+\n",
      "|CRC: 0x72F64CB3  File: biographies.list  Date: Sat Dec 19 00:00:00 2015        |\n",
      "|                                                                               |\n",
      "|BIOGRAPHY LIST                                                                 |\n",
      "|==============                                                                 |\n",
      "|-------------------------------------------------------------------------------|\n",
      "|NM: \"Ghost\", Matthew Clark                                                     |\n",
      "|                                                                               |\n",
      "|NK: Ghost                                                                      |\n",
      "|                                                                               |\n",
      "|HT: 5' 9\"                                                                      |\n",
      "|                                                                               |\n",
      "|BG: Richard Matthew Clark was born and raised in southeastern, NC, in a        |\n",
      "|BG: small town called, Chadbourn, NC.                                          |\n",
      "|BG:                                                                            |\n",
      "|BG: He has a tragic tale filled with emotion that becomes one with the         |\n",
      "|BG: canvas he paints. Clark has a way through any media to lead you into a     |\n",
      "|BG: world that traps your soul.                                                |\n",
      "|BG:                                                                            |\n",
      "|BG: His mother left him at six months old and his dad that's drinking almost   |\n",
      "|BG: destroyed the both of them.                                                |\n",
      "+-------------------------------------------------------------------------------+\n",
      "only showing top 20 rows\n",
      "\n"
     ]
    }
   ],
   "source": [
    "df = spark.read.text(\"./data/biographies.list.gz\")\n",
    "df.show(truncate=False)"
   ]
  },
  {
   "cell_type": "markdown",
   "metadata": {},
   "source": [
    "In order to reach our aim, the following code: \n",
    "* Excludes all the rows whose start is different from \"BG:\".\n",
    "* Removes all the punctuation\n",
    "* Splits each row on blanks\n",
    "* Removes from each resulting array all the empty strings\n",
    "* Removes the `BG`'s ([sorry guys](https://images-na.ssl-images-amazon.com/images/I/71Qh%2BLuRE0L._AC_SX522_.jpg))\n",
    "* Counts the number of words for each row\n",
    "* Sums the number of of words in each row"
   ]
  },
  {
   "cell_type": "code",
   "execution_count": 3,
   "metadata": {},
   "outputs": [
    {
     "name": "stdout",
     "output_type": "stream",
     "text": [
      "+-----------------------------------------------------------------------------------------+----------+\n",
      "|value                                                                                    |word_count|\n",
      "+-----------------------------------------------------------------------------------------+----------+\n",
      "|[Richard, Matthew, Clark, was, born, and, raised, in, southeastern, NC, in, a]           |12        |\n",
      "|[small, town, called, Chadbourn, NC]                                                     |5         |\n",
      "|[]                                                                                       |0         |\n",
      "|[He, has, a, tragic, tale, filled, with, emotion, that, becomes, one, with, the]         |13        |\n",
      "|[canvas, he, paints, Clark, has, a, way, through, any, media, to, lead, you, into, a]    |15        |\n",
      "|[world, that, traps, your, soul]                                                         |5         |\n",
      "|[]                                                                                       |0         |\n",
      "|[His, mother, left, him, at, six, months, old, and, his, dad, thats, drinking, almost]   |14        |\n",
      "|[destroyed, the, both, of, them]                                                         |5         |\n",
      "|[]                                                                                       |0         |\n",
      "|[His, mother, came, back, into, his, life, when, he, was, twelve, only, to, attempt, to] |15        |\n",
      "|[murder, him]                                                                            |2         |\n",
      "|[]                                                                                       |0         |\n",
      "|[Art, was, his, only, outlet, to, express, his, emotion, His, senior, year, in, High]    |14        |\n",
      "|[School, he, excelled, in, the, arts, and, was, offered, a, full, scholarship, to]       |13        |\n",
      "|[the, Parsons, School, of, Art, and, the, Art, Institute, as, well, as, an]              |13        |\n",
      "|[internship, with, Marvel, and, Disney]                                                  |5         |\n",
      "|[]                                                                                       |0         |\n",
      "|[The, light, at, the, end, of, the, tunnel, was, soon, dimmed, as, he, had, to, put, his]|17        |\n",
      "|[dad, in, a, rehab, clinic, and, drop, out, of, school, to, save, their, home]           |14        |\n",
      "+-----------------------------------------------------------------------------------------+----------+\n",
      "only showing top 20 rows\n",
      "\n"
     ]
    }
   ],
   "source": [
    "df = (df      \n",
    "      .where(F.col(\"value\").startswith(\"BG:\"))\n",
    "      .select(F.regexp_replace(\"value\", \"\\p{Punct}\", \"\").alias(\"value\"))\n",
    "      .select(F.split(F.col(\"value\"), '\\s+').alias(\"value\"))\n",
    "      .select(F.array_remove(\"value\", \"\").alias(\"value\"))\n",
    "      .select(F.array_remove(\"value\", \"BG\").alias(\"value\"))\n",
    "      .select(\"value\", F.size(\"value\").alias(\"word_count\"))\n",
    "     )\n",
    "\n",
    "df.show(truncate=False)"
   ]
  },
  {
   "cell_type": "code",
   "execution_count": 4,
   "metadata": {},
   "outputs": [
    {
     "name": "stdout",
     "output_type": "stream",
     "text": [
      "+---------------+\n",
      "|sum(word_count)|\n",
      "+---------------+\n",
      "|25581588       |\n",
      "+---------------+\n",
      "\n"
     ]
    }
   ],
   "source": [
    "df = df.select(F.sum(\"word_count\"))\n",
    "df.show(truncate=False)"
   ]
  },
  {
   "cell_type": "code",
   "execution_count": null,
   "metadata": {},
   "outputs": [],
   "source": []
  }
 ],
 "metadata": {
  "kernelspec": {
   "display_name": "Python 3",
   "language": "python",
   "name": "python3"
  },
  "language_info": {
   "codemirror_mode": {
    "name": "ipython",
    "version": 3
   },
   "file_extension": ".py",
   "mimetype": "text/x-python",
   "name": "python",
   "nbconvert_exporter": "python",
   "pygments_lexer": "ipython3",
   "version": "3.6.6"
  }
 },
 "nbformat": 4,
 "nbformat_minor": 2
}
